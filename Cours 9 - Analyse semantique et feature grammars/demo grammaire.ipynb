{
 "cells": [
  {
   "cell_type": "code",
   "execution_count": null,
   "metadata": {},
   "outputs": [],
   "source": [
    "import nltk\n",
    "from nltk import load_parser"
   ]
  },
  {
   "cell_type": "code",
   "execution_count": null,
   "metadata": {},
   "outputs": [],
   "source": [
    "def example1(s1):\n",
    "    grammar1 = nltk.data.load('./exemples/syn01.cfg')\n",
    "    ep = nltk.EarleyChartParser(grammar1)\n",
    "    for tree in ep.parse(s1.split()):\n",
    "        tree.draw()\n",
    "\n",
    "example1('le Colonel_Mustard a_tue Madame_Peacock dans le salon avec la corde')"
   ]
  },
  {
   "cell_type": "code",
   "execution_count": null,
   "metadata": {},
   "outputs": [],
   "source": [
    "def example2(s1):\n",
    "    ep = load_parser('exemples/feat0.fcfg')\n",
    "    for tree in ep.parse(s1.split()):\n",
    "        tree.draw()\n",
    "\n",
    "example2('Jody likes girls')\n",
    "example2('Marie aime les chats')"
   ]
  },
  {
   "cell_type": "code",
   "execution_count": null,
   "metadata": {},
   "outputs": [],
   "source": [
    "def example3(s1):\n",
    "    ep = load_parser('exemples/event.fcfg')\n",
    "    for tree in ep.parse(s1.split()):\n",
    "        tree.draw()\n",
    "\n",
    "example4('Cyril gives a dog to a boy')"
   ]
  },
  {
   "cell_type": "code",
   "execution_count": null,
   "metadata": {},
   "outputs": [],
   "source": [
    "def example4(s1):\n",
    "    ep = load_parser('exemples/rattachement.cfg')\n",
    "    for tree in ep.parse(s1.split()):\n",
    "        tree.draw()\n",
    "\n",
    "example5('J ai_vu un homme dans le parc avec un telescope')"
   ]
  },
  {
   "cell_type": "code",
   "execution_count": null,
   "metadata": {},
   "outputs": [],
   "source": [
    "def example5(s1):\n",
    "    ep = load_parser('exemples/rattachement2.cfg')\n",
    "    for tree in ep.parse(s1.split()):\n",
    "        #printing insteaad of drawing\n",
    "        print(tree)\n",
    "\n",
    "example6('il a_vu l ours sur la montagne pendant la nuit')"
   ]
  }
 ],
 "metadata": {
  "kernelspec": {
   "display_name": "Python 3",
   "language": "python",
   "name": "python3"
  },
  "language_info": {
   "codemirror_mode": {
    "name": "ipython",
    "version": 3
   },
   "file_extension": ".py",
   "mimetype": "text/x-python",
   "name": "python",
   "nbconvert_exporter": "python",
   "pygments_lexer": "ipython3",
   "version": "3.8.8"
  }
 },
 "nbformat": 4,
 "nbformat_minor": 4
}
