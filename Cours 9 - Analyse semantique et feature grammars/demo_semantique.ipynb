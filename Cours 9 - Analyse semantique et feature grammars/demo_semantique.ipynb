{
 "cells": [
  {
   "cell_type": "code",
   "execution_count": 1,
   "metadata": {},
   "outputs": [],
   "source": [
    "import nltk\n",
    "import pprint\n",
    "from nltk import load_parser\n",
    "\n",
    "def analyze_text(grammaire, text):\n",
    "    parser = load_parser(grammaire)\n",
    "    for tree in parser.parse(text.split()):\n",
    "        tree.draw()\n",
    "\n",
    "def print_results(results):\n",
    "    for result in results:\n",
    "        for (synrep, semrep) in result:\n",
    "            #print(synrep)\n",
    "            print(semrep)\n",
    "        \n",
    "grammaire1 = 'exemples/sem01.fcfg'\n",
    "grammaire2 = 'exemples/sem02.fcfg'\n",
    "grammaire3 = 'exemples/sem03.fcfg'\n",
    "grammaire4 = 'exemples/sem04.fcfg'\n",
    "grammaire5 = 'exemples/quant01.fcfg'"
   ]
  },
  {
   "cell_type": "code",
   "execution_count": 5,
   "metadata": {},
   "outputs": [
    {
     "name": "stdout",
     "output_type": "stream",
     "text": [
      "exists e.(Event(e,tuer) & obj(e,marie) & instr(e,corde) & loc(e,cuisine) & agt(e,jean))\n"
     ]
    }
   ],
   "source": [
    "#sents1 = ['Jean marche', 'Jean aime Marie']\n",
    "#sents2 = ['Jean tua Marie avec une corde']\n",
    "sents3 = ['Jean tua Marie avec une corde dans la cuisine']\n",
    "# sents4 = ['tous les cochons sont gros']\n",
    "\n",
    "#print_results(nltk.interpret_sents(sents1, grammaire1))\n",
    "#print_results(nltk.interpret_sents(sents2, grammaire2))\n",
    "#print_results(nltk.interpret_sents(sents3, grammaire3))\n",
    "print_results(nltk.interpret_sents(sents3, grammaire4))\n",
    "# print_results(nltk.interpret_sents(sents4, grammaire5))"
   ]
  },
  {
   "cell_type": "markdown",
   "metadata": {},
   "source": [
    "# Arbre"
   ]
  },
  {
   "cell_type": "code",
   "execution_count": 6,
   "metadata": {},
   "outputs": [],
   "source": [
    "# analyze_text(grammaire1, 'Jean marche')\n",
    "analyze_text(grammaire2, 'Jean tua Marie avec une corde')\n",
    "# analyze_text(grammaire3, 'Jean tua Marie avec une corde dans la cuisine')\n",
    "# analyze_text(grammaire4, 'Jean tua Marie avec une corde dans la cuisine')\n",
    "# analyze_text(grammaire5, 'tous les cochons sont gros')"
   ]
  }
 ],
 "metadata": {
  "kernelspec": {
   "display_name": "Python [conda env:log635]",
   "language": "python",
   "name": "conda-env-log635-py"
  },
  "language_info": {
   "codemirror_mode": {
    "name": "ipython",
    "version": 3
   },
   "file_extension": ".py",
   "mimetype": "text/x-python",
   "name": "python",
   "nbconvert_exporter": "python",
   "pygments_lexer": "ipython3",
   "version": "3.7.10"
  }
 },
 "nbformat": 4,
 "nbformat_minor": 4
}
