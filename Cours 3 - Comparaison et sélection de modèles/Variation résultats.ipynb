{
 "cells": [
  {
   "cell_type": "code",
   "execution_count": 2,
   "metadata": {},
   "outputs": [],
   "source": [
    "from sklearn.datasets import fetch_openml\n",
    "from sklearn.model_selection import train_test_split\n",
    "from sklearn.tree import DecisionTreeClassifier\n",
    "\n",
    "X, y = fetch_openml('heart', return_X_y=True)"
   ]
  },
  {
   "cell_type": "markdown",
   "metadata": {},
   "source": [
    "# Evaluation Arbre de décision"
   ]
  },
  {
   "cell_type": "code",
   "execution_count": 16,
   "metadata": {},
   "outputs": [
    {
     "name": "stdout",
     "output_type": "stream",
     "text": [
      "Decision Tree Heart Disease Accuracy\n",
      "Accuracy simulation 0: 77.94\n",
      "Accuracy simulation 1: 80.88\n",
      "Accuracy simulation 2: 61.76\n",
      "Accuracy simulation 3: 72.06\n",
      "Accuracy simulation 4: 69.12\n",
      "Accuracy simulation 5: 75.0\n",
      "Accuracy simulation 6: 76.47\n",
      "Accuracy simulation 7: 69.12\n",
      "Accuracy simulation 8: 75.0\n",
      "Accuracy simulation 9: 79.41\n",
      "Accuracy simulation 10: 75.0\n",
      "Accuracy simulation 11: 77.94\n",
      "Accuracy simulation 12: 69.12\n",
      "Accuracy simulation 13: 70.59\n",
      "Accuracy simulation 14: 73.53\n",
      "Accuracy simulation 15: 69.12\n",
      "Accuracy simulation 16: 75.0\n",
      "Accuracy simulation 17: 70.59\n",
      "Accuracy simulation 18: 72.06\n",
      "Accuracy simulation 19: 77.94\n",
      "Accuracy simulation 20: 77.94\n",
      "Accuracy simulation 21: 76.47\n",
      "Accuracy simulation 22: 73.53\n",
      "Accuracy simulation 23: 76.47\n",
      "Accuracy simulation 24: 61.76\n",
      "Accuracy simulation 25: 69.12\n",
      "Accuracy simulation 26: 75.0\n",
      "Accuracy simulation 27: 72.06\n",
      "Accuracy simulation 28: 79.41\n",
      "Accuracy simulation 29: 75.0\n"
     ]
    }
   ],
   "source": [
    "print('Decision Tree Heart Disease Accuracy')\n",
    "for idx in range(30):\n",
    "    X_train, X_test, y_train, y_test = train_test_split(X, y, test_size=0.25)\n",
    "    dt = DecisionTreeClassifier()\n",
    "    dt.fit(X_train, y_train)\n",
    "    print(f\"Accuracy simulation {idx}: {round(100*dt.score(X_test, y_test), 2)}\")"
   ]
  }
 ],
 "metadata": {
  "kernelspec": {
   "display_name": "Python [conda env:log635]",
   "language": "python",
   "name": "conda-env-log635-py"
  },
  "language_info": {
   "codemirror_mode": {
    "name": "ipython",
    "version": 3
   },
   "file_extension": ".py",
   "mimetype": "text/x-python",
   "name": "python",
   "nbconvert_exporter": "python",
   "pygments_lexer": "ipython3",
   "version": "3.7.10"
  }
 },
 "nbformat": 4,
 "nbformat_minor": 2
}
