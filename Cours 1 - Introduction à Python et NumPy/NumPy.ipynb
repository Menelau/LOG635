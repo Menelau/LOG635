{
 "cells": [
  {
   "cell_type": "markdown",
   "metadata": {
    "slideshow": {
     "slide_type": "-"
    }
   },
   "source": [
    "# Introduction à l'algèbre lineaire\n",
    "\n",
    "Nous réviserons les concepts de base de l'algèbre linéaire nécessaires pour porsuivre ce cours. L'objectif de ce Jupyter notebook est de se familiariser avec l'algèbre lineaire et la librarie NumPy en Python. Il est important de suivre les étapes de ce cours et de pratiquer. \n",
    "\n",
    "1) Vecteurs et matrices\n",
    "\n",
    "2) Opérations entre vecteurs et matrices\n",
    "\n",
    "3) Multiplication de matrices\n",
    "\n",
    "4) Indexation des matrices\n",
    "\n",
    "Pour suivre ce notebook, il faut avoir NumPy installé dans votre environment Python. Vous pouvez simplement l'installé avec le commande:\n",
    "\n",
    "**pip install numpy**\n",
    "\n",
    "Si vous utilisez ce notebook avec Google Colab, NumPy est déjà installé et vous devriez être en mesure de suivre ce guide."
   ]
  },
  {
   "cell_type": "markdown",
   "metadata": {
    "id": "9rd5GBLX3Ftd"
   },
   "source": [
    "# NumPy et la vectorisation\n",
    "\n",
    "NumPy est une bibliothèque de calcul scientifique **extrêmement optimisée** pour Python.\n",
    "Documentation NumPy: https://numpy.org\n",
    "\n",
    "La compréhension de l'algèbre linéaire est essentielle pour développer des modèles d'apprentissage automatique à partir de zéro. En utilisant NumPy nous pouvons rendre nos calculs plus efficaces et plus simples. NumPy simplifie votre code et augmente les performances en même temps!\n",
    "\n",
    "\n",
    "Au fil du temps, vous apprendrez à apprécier NumPy de plus en plus."
   ]
  },
  {
   "cell_type": "markdown",
   "metadata": {
    "slideshow": {
     "slide_type": "-"
    }
   },
   "source": [
    "## 1) Vecteurs\n",
    "\n",
    "* Un vecteur est un array de nombres disposés dans l'ordre. Chaque élément peut être identifié par son indice.\n",
    "\n",
    "\n",
    "\\begin{equation}\n",
    "\\mathbf{a} = \\begin{bmatrix}a_1, a_2, ..., a_n \\end{bmatrix}\n",
    "\\end{equation}\n",
    "\n",
    "Nous pouvons considérer les vecteurs comme un **point dans un espace multidimensionnel**. Chaque élément représente la coordonnée dans un axe différent.\n",
    "\n"
   ]
  },
  {
   "cell_type": "code",
   "execution_count": 1,
   "metadata": {
    "colab": {
     "base_uri": "https://localhost:8080/"
    },
    "executionInfo": {
     "elapsed": 352,
     "status": "ok",
     "timestamp": 1610297674511,
     "user": {
      "displayName": "Saypraseuth Mounsaveng",
      "photoUrl": "https://lh3.googleusercontent.com/a-/AOh14GhubswOkAvmZLPzVgb9RqVkEcIIwV0En8Sr9d780w=s64",
      "userId": "01609128547935706184"
     },
     "user_tz": 300
    },
    "id": "An3f1p0y3Ftt",
    "outputId": "d2c0847c-cccd-40e7-d46a-44a7c805a391"
   },
   "outputs": [
    {
     "name": "stdout",
     "output_type": "stream",
     "text": [
      "[1. 1. 1. 1.]\n",
      "[0. 0. 0. 0.]\n",
      "[1. 4. 4. 5. 6. 7.]\n",
      "(6,)\n"
     ]
    }
   ],
   "source": [
    "import numpy as np \n",
    "\n",
    "print(np.ones(4)) # Vector de 4 elements de 1\n",
    "print(np.zeros(4)) # Vector de 4 elements de 0\n",
    "a = np.array([1.,4.,4, 5.,6.,7])\n",
    "print(a)\n",
    "# pour avoir le nombre de lignes et de colonnes de la matrice a\n",
    "# on utilise shape\n",
    "print(a.shape) #1 ligne, aucune colonne"
   ]
  },
  {
   "cell_type": "markdown",
   "metadata": {},
   "source": [
    "### 1.1) Vector Operations\n",
    "\n",
    "\\begin{equation}\n",
    "\\mathbf{a} = \\begin{bmatrix}\n",
    "a_1, \\;  a_2, \\; ... ,\\; a_n\n",
    "\\end{bmatrix}\n",
    "\\end{equation}\n",
    "\n",
    "\\begin{equation}\n",
    "\\mathbf{b} = \\begin{bmatrix}b_1, \\; b_2 \\;  ... \\;  b_n \\end{bmatrix}\n",
    "\\end{equation}\n",
    "\n",
    "#### 1) Somme:\n",
    "\\begin{equation}\n",
    "n + \\mathbf{a} = \\begin{bmatrix}a_1 + n, \\:  a_2 + n, \\:  ..., \\:  a_n + n \\end{bmatrix}\n",
    "\\end{equation}\n",
    "\n",
    "\n",
    "#### 2) Multiplication par un scalaire $ex: 3$:\n",
    "\n",
    "\\begin{equation}\n",
    "n * \\mathbf{a} = \\begin{bmatrix}3a_1 , \\:  3a_2 , \\:  ..., \\:  3a_n \\end{bmatrix}\n",
    "\\end{equation}"
   ]
  },
  {
   "cell_type": "markdown",
   "metadata": {
    "id": "6GIeW_Ma3Ftt"
   },
   "source": [
    "## Les opérations\n",
    "Les opérations de base de numpy sont élément par élément"
   ]
  },
  {
   "cell_type": "code",
   "execution_count": 2,
   "metadata": {},
   "outputs": [
    {
     "name": "stdout",
     "output_type": "stream",
     "text": [
      "[1. 1. 1. 1.]\n",
      "[8. 8. 8. 8.]\n",
      "[3. 3. 3. 3.]\n"
     ]
    }
   ],
   "source": [
    "a = np.ones(4)\n",
    "print(a)\n",
    "b = a * 8\n",
    "print(b)\n",
    "c = np.log2(b)\n",
    "print(c)"
   ]
  },
  {
   "cell_type": "markdown",
   "metadata": {},
   "source": [
    "#### 3) Produit scalaire entre vecteurs (dot product): \n",
    "\n",
    "\\begin{equation}\n",
    "\\mathbf{a} \\cdot \\mathbf{b} = (a_1 \\times b_1) \\: + \\:  (a_2 \\times b_2) \\: + \\: ... \\: + \\: (a_n \\times b_n)\n",
    "\\end{equation}\n",
    "\n",
    "\n",
    "#### 4) Element-wise (Hadamard)\n",
    "\n",
    "\\begin{equation}\n",
    "\\mathbf{a} * \\mathbf{b} = \\begin{bmatrix}a_1 \\times b_1, \\; a_2 \\times b_2, \\; ..., \\; a_n \\times b_n \\end{bmatrix}\n",
    "\\end{equation}\n",
    "\n"
   ]
  },
  {
   "cell_type": "code",
   "execution_count": 3,
   "metadata": {},
   "outputs": [
    {
     "name": "stdout",
     "output_type": "stream",
     "text": [
      "32\n",
      "[ 4 10 18]\n"
     ]
    }
   ],
   "source": [
    "a = np.array([1, 2, 3])\n",
    "b = np.array([4, 5, 6])\n",
    "c = np.array([7, 8])\n",
    "# dot product\n",
    "print(a.dot(b))\n",
    "\n",
    "# Hadamard\n",
    "print(a * b)"
   ]
  },
  {
   "cell_type": "code",
   "execution_count": 4,
   "metadata": {},
   "outputs": [
    {
     "ename": "ValueError",
     "evalue": "shapes (3,) and (2,) not aligned: 3 (dim 0) != 2 (dim 0)",
     "output_type": "error",
     "traceback": [
      "\u001b[0;31m---------------------------------------------------------------------------\u001b[0m",
      "\u001b[0;31mValueError\u001b[0m                                Traceback (most recent call last)",
      "\u001b[0;32m<ipython-input-4-0a2af522f705>\u001b[0m in \u001b[0;36m<module>\u001b[0;34m\u001b[0m\n\u001b[1;32m      2\u001b[0m \u001b[0;34m\u001b[0m\u001b[0m\n\u001b[1;32m      3\u001b[0m \u001b[0;31m# Erreur:\u001b[0m\u001b[0;34m\u001b[0m\u001b[0;34m\u001b[0m\u001b[0;34m\u001b[0m\u001b[0m\n\u001b[0;32m----> 4\u001b[0;31m \u001b[0ma\u001b[0m\u001b[0;34m.\u001b[0m\u001b[0mdot\u001b[0m\u001b[0;34m(\u001b[0m\u001b[0mc\u001b[0m\u001b[0;34m)\u001b[0m\u001b[0;34m\u001b[0m\u001b[0;34m\u001b[0m\u001b[0m\n\u001b[0m\u001b[1;32m      5\u001b[0m \u001b[0;34m\u001b[0m\u001b[0m\n\u001b[1;32m      6\u001b[0m \u001b[0;31m# Erreur:\u001b[0m\u001b[0;34m\u001b[0m\u001b[0;34m\u001b[0m\u001b[0;34m\u001b[0m\u001b[0m\n",
      "\u001b[0;31mValueError\u001b[0m: shapes (3,) and (2,) not aligned: 3 (dim 0) != 2 (dim 0)"
     ]
    }
   ],
   "source": [
    "c = np.array([7, 8])\n",
    "\n",
    "# Erreur:\n",
    "a.dot(c)\n",
    "\n",
    "# Erreur:\n",
    "a * c"
   ]
  },
  {
   "cell_type": "markdown",
   "metadata": {
    "slideshow": {
     "slide_type": "-"
    }
   },
   "source": [
    "## 2) Matrice\n",
    "\n",
    "Une matrice est un tableau de nombres en 2D désigné par une variable majuscule $\\mathbf{A}$. Chaque élément $a_{ij}$ est identifié par deux indices, l'indice de ligne $\"i\"$ et l'indice de colonne $\"j\"$. \n",
    "\n",
    "\\begin{equation}\n",
    "\\mathbf{A} = \\begin{bmatrix}\n",
    "a_{11} & a_{12} \\\\ \n",
    "a_{21} &  a_{22}\\\\ \n",
    "\\end{bmatrix}\n",
    "\\end{equation}\n",
    "\n",
    "\\begin{equation}\n",
    "\\mathbf{B} = \\begin{bmatrix}\n",
    "b_{11} & b_{12} \\\\ \n",
    "b_{21} &  b_{22}\\\\ \n",
    "\\end{bmatrix}\n",
    "\\end{equation}\n"
   ]
  },
  {
   "cell_type": "code",
   "execution_count": null,
   "metadata": {},
   "outputs": [],
   "source": [
    "A = np.array([[1,1],[2,2]])\n",
    "B = np.array([[-1,1],[1,1]])"
   ]
  },
  {
   "cell_type": "markdown",
   "metadata": {},
   "source": [
    "## Operations Matricielles:\n",
    "\n",
    "\\begin{equation}\n",
    "\tA -B =\n",
    "\t\\begin{bmatrix}\n",
    "\t  a_{11} & a_{12} \\\\\n",
    "\t  a_{21} & a_{22} \t\n",
    "\t\\end{bmatrix} -\n",
    "\t\\begin{bmatrix} b_{11} & b_{12} \\\\\n",
    "\t  b_{21} & b_{22}\n",
    "\t\\end{bmatrix}\n",
    "\t=\n",
    "\t\\begin{bmatrix}\n",
    "\t  a_{11}-b_{11} & a_{12}-b_{12} \\\\\n",
    "\t  a_{21}-b_{21} & a_{22}-b_{22} \t\n",
    "\t\\end{bmatrix}\n",
    "\\end{equation}\n",
    "\n",
    "\n",
    "\\begin{equation}\n",
    "\tA + B =\n",
    "\t\\begin{bmatrix}\n",
    "\t  a_{11} & a_{12} \\\\\n",
    "\t  a_{21} & a_{22} \t\n",
    "\t\\end{bmatrix} +\n",
    "\t\\begin{bmatrix} b_{11} & b_{12} \\\\\n",
    "\t  b_{21} & b_{22}\n",
    "\t\\end{bmatrix}\n",
    "\t=\n",
    "\t\\begin{bmatrix}\n",
    "\t  a_{11}+b_{11} & a_{12}+b_{12} \\\\\n",
    "\t  a_{21}+b_{21} & a_{22}+b_{22} \t\n",
    "\t\\end{bmatrix}\n",
    "\\end{equation}\n",
    "\n",
    "\n",
    "#### Multiplication par un scalaire ($ex: 3$):\n",
    "\n",
    "\\begin{equation}\n",
    "\t3 \\times A = 3 \\times \\begin{bmatrix}\n",
    "\t  a_{11} & a_{12} \\\\\n",
    "\t  a_{21} & a_{22} \t\n",
    "\t\\end{bmatrix}\n",
    "\t=\n",
    "\t\\begin{bmatrix}\n",
    "\t  3a_{11} & 3a_{12} \\\\\n",
    "\t  3a_{21} & 3a_{22} \t\n",
    "\t\\end{bmatrix}\n",
    "\\end{equation}"
   ]
  },
  {
   "cell_type": "code",
   "execution_count": null,
   "metadata": {},
   "outputs": [],
   "source": [
    "print(A - B)\n",
    "print (A + B)\n",
    "print(3 * A)"
   ]
  },
  {
   "cell_type": "markdown",
   "metadata": {},
   "source": [
    "### 2.1) Transpose\n",
    "\n",
    "One important operation on matrices is the **transpose**. The transpose of a matrix is the mirror image of the matrix across a diagonal line (main diagonal). We denote the transpose of a matrix $\\mathbf{A}$ as $\\mathbf{A}^T$ such that:\n",
    "\n",
    "\\begin{equation}\n",
    "(\\mathbf{A}^{T})_{i, j} = \\mathbf{A}_{j, i}\n",
    "\\end{equation}\n",
    "\n",
    "Exemple:\n",
    "\n",
    "\\begin{equation}\n",
    "\\mathbf{A} = \\begin{bmatrix}\n",
    "a_{1,1} & a_{1,2}  \\\\ \n",
    "a_{2,1} &  a_{2,2}\\\\ \n",
    "a_{3,1} & a_{3,2} \n",
    "\\end{bmatrix} \\Rightarrow  \\mathbf{A}^{T} = \\begin{bmatrix}\n",
    "a_{1,1} & a_{2,1} & a_{3, 1} \\\\ \n",
    "a_{1,2} &  a_{2,2} & a_{3, 2}\\\\ \n",
    "\\end{bmatrix}\n",
    "\\end{equation}\n",
    "\n",
    "\n"
   ]
  },
  {
   "cell_type": "code",
   "execution_count": null,
   "metadata": {},
   "outputs": [],
   "source": [
    "A = np.array([[1,2],\n",
    "              [3,4],\n",
    "              [5,6]])\n",
    "print(A)\n",
    "print(f\"Shape: {A.shape}\")\n",
    "\n",
    "# Transpose\n",
    "print(A.T)\n",
    "print(f\"Shape: {A.T.shape}\")\n",
    "# on peut aussi utiliser np.transpose\n",
    "\n",
    "print(np.transpose(A))"
   ]
  },
  {
   "cell_type": "markdown",
   "metadata": {},
   "source": [
    "###  2.1) Produit matrices\n",
    "\n",
    "Le produit de deux matrices ne peut se définir que si le nombre de **colonnes** de la première matrice est le même que le nombre de **lignes** de la deuxième matrice, c'est-à-dire lorsqu'elles sont de type compatible.\n",
    "\n",
    "* Considérez le $2 \\times 1$ vecteur $B=\\bigl( \\begin{smallmatrix} b_{11} \\\\\n",
    "  b_{21}\n",
    "\\end{smallmatrix} \\bigr)$  Le vecteur colonne et correspond à un cas particulier de matrice.\n",
    "\n",
    "\\begin{equation}\n",
    "\t\\mathbf{A}_{2 \\times 2} \\times \\mathbf{B}_{2 \\times 1} = \n",
    "\t\\begin{bmatrix}\n",
    "\t  a_{11} & a_{12} \\\\\n",
    "\t  a_{21} & a_{22} \t\n",
    "\t\\end{bmatrix}_{2 \\times 2}\n",
    "    \\times\n",
    "    \\begin{bmatrix}\n",
    "\tb_{11} \\\\\n",
    "\tb_{21}\n",
    "\t\\end{bmatrix}_{2 \\times 1}\n",
    "\t=\n",
    "\t\\begin{bmatrix}\n",
    "\t  a_{11}b_{11} + a_{12}b_{21} \\\\\n",
    "\t  a_{21}b_{11} + a_{22}b_{21} \t\n",
    "\t\\end{bmatrix}_{2 \\times 1}\n",
    "\\end{equation}"
   ]
  },
  {
   "cell_type": "code",
   "execution_count": null,
   "metadata": {},
   "outputs": [],
   "source": [
    "# Essayez changer ces valeurs de A et B\n",
    "A = np.arange(4).reshape((2,2))\n",
    "B = np.random.randn(2,1) \n",
    "print(A)\n",
    "print(B)\n",
    "print(A.shape)\n",
    "print(B.shape)"
   ]
  },
  {
   "cell_type": "markdown",
   "metadata": {},
   "source": [
    "Le résulat:"
   ]
  },
  {
   "cell_type": "code",
   "execution_count": null,
   "metadata": {},
   "outputs": [],
   "source": [
    "print(A.dot(B))\n",
    "# alternative\n",
    "print(np.dot(A,B))\n",
    "np.dot(A,B).shape"
   ]
  },
  {
   "cell_type": "markdown",
   "metadata": {},
   "source": [
    "* On peut aussi considérer une matrice C de dimension $2 \\times 3$ et une matrice A de dimension $3 \\times 2$.\n",
    "\n",
    "\\begin{equation}\n",
    "\t\\mathbf{A}_{3 \\times 2}=\\begin{bmatrix}\n",
    "\t  a_{11} & a_{12} \\\\\n",
    "\t  a_{21} & a_{22} \\\\\n",
    "\t  a_{31} & a_{32} \t\n",
    "\t\\end{bmatrix}_{3 \\times 2}\n",
    "\t,\n",
    "\t\\mathbf{C}_{2 \\times 3} = \n",
    "\t\\begin{bmatrix}\n",
    "\t\t  c_{11} & c_{12} & c_{13} \\\\\n",
    "\t\t  c_{21} & c_{22} & c_{23} \\\\\n",
    "\t\\end{bmatrix}_{2 \\times 3}\n",
    "\t\\end{equation}\n",
    "    \n",
    "\\begin{align}\n",
    "\t\\mathbf{A}_{3 \\times 2} \\times \\mathbf{C}_{2 \\times 3}=&\n",
    "\t\\begin{bmatrix}\n",
    "\t  a_{11} & a_{12} \\\\\n",
    "\t  a_{21} & a_{22} \\\\\n",
    "\t  a_{31} & a_{32} \t\n",
    "\t\\end{bmatrix}_{3 \\times 2}\n",
    "\t\\times\n",
    "\t\\begin{bmatrix}\n",
    "\t  c_{11} & c_{12} & c_{13} \\\\\n",
    "\t  c_{21} & c_{22} & c_{23} \n",
    "\t\\end{bmatrix}_{2 \\times 3} \\\\\n",
    "\t=&\n",
    "\t\\begin{bmatrix}\n",
    "\t  a_{11} c_{11}+a_{12} c_{21} & a_{11} c_{12}+a_{12} c_{22} & a_{11} c_{13}+a_{12} c_{23} \\\\\n",
    "\t  a_{21} c_{11}+a_{22} c_{21} & a_{21} c_{12}+a_{22} c_{22} & a_{21} c_{13}+a_{22} c_{23} \\\\\n",
    "\t  a_{31} c_{11}+a_{32} c_{21} & a_{31} c_{12}+a_{32} c_{22} & a_{31} c_{13}+a_{32} c_{23}\n",
    "\t\\end{bmatrix}_{3 \\times 3}\t\n",
    "\\end{align}"
   ]
  },
  {
   "cell_type": "code",
   "execution_count": null,
   "metadata": {},
   "outputs": [],
   "source": [
    "A = np.array([[1,2],[3,4],[5, 6]])\n",
    "C = np.array([[1,2,3], [1, 2, 3]])\n",
    "A.dot(C)"
   ]
  },
  {
   "cell_type": "markdown",
   "metadata": {},
   "source": [
    "* Remarquez que $\\mathbf{C} \\times \\mathbf{A}$ donne un résultat entièrement different. "
   ]
  },
  {
   "cell_type": "code",
   "execution_count": null,
   "metadata": {},
   "outputs": [],
   "source": [
    "A = np.array([[1,2],[3,4],[5, 6]])\n",
    "C = np.array([[1,2,3], [1, 2, 3]])\n",
    "print(C.dot(A))"
   ]
  },
  {
   "cell_type": "markdown",
   "metadata": {},
   "source": [
    "### IMPORTANT: L'opérateur multiplicateur de Python \"*\" correspond au produit Hadamard"
   ]
  },
  {
   "cell_type": "code",
   "execution_count": null,
   "metadata": {},
   "outputs": [],
   "source": [
    "A = np.arange(4).reshape((2,2))\n",
    "B = np.array([[0, 0], [-1, -1]]) \n",
    "A * B"
   ]
  },
  {
   "cell_type": "markdown",
   "metadata": {
    "id": "lfCB-Nhw3Ftu"
   },
   "source": [
    "## Indexing\n",
    "\n",
    "Un tableau/vecteur/matrice/tenseur de Numpy peut être indexé de plusieurs façons. **Note: l'indexage en Numpy commence par zéro.**\n",
    "\n",
    "Exemple:\n",
    "   \n",
    "\n",
    "\n",
    "\n"
   ]
  },
  {
   "cell_type": "code",
   "execution_count": null,
   "metadata": {
    "colab": {
     "base_uri": "https://localhost:8080/"
    },
    "executionInfo": {
     "elapsed": 321,
     "status": "ok",
     "timestamp": 1610297680552,
     "user": {
      "displayName": "Saypraseuth Mounsaveng",
      "photoUrl": "https://lh3.googleusercontent.com/a-/AOh14GhubswOkAvmZLPzVgb9RqVkEcIIwV0En8Sr9d780w=s64",
      "userId": "01609128547935706184"
     },
     "user_tz": 300
    },
    "id": "srv1usa23Ftu",
    "outputId": "66edbe63-31c3-4e1a-ad8a-34a7b7189096"
   },
   "outputs": [],
   "source": [
    "A = np.array([[1,2,3],\n",
    "              [4,5,6]])\n",
    "print(A)"
   ]
  },
  {
   "cell_type": "code",
   "execution_count": null,
   "metadata": {
    "id": "B_Zp1F8o3Ftu"
   },
   "outputs": [],
   "source": [
    "#A has 2 rows and 3 columns.\n",
    "A.shape"
   ]
  },
  {
   "cell_type": "code",
   "execution_count": null,
   "metadata": {
    "colab": {
     "base_uri": "https://localhost:8080/",
     "height": 231
    },
    "executionInfo": {
     "elapsed": 381,
     "status": "error",
     "timestamp": 1610297683719,
     "user": {
      "displayName": "Saypraseuth Mounsaveng",
      "photoUrl": "https://lh3.googleusercontent.com/a-/AOh14GhubswOkAvmZLPzVgb9RqVkEcIIwV0En8Sr9d780w=s64",
      "userId": "01609128547935706184"
     },
     "user_tz": 300
    },
    "id": "AnYVJClu3Ftv",
    "outputId": "2f373d11-0e43-4c99-ff53-7526fa32dc64"
   },
   "outputs": [],
   "source": [
    "print(A[0,1]) # retourne \"2\": l'élément de la ligne 0, colonne 1\n",
    "print(A[1,2]) # retourne \"6\": l'élément de la ligne 1, colonne 2"
   ]
  },
  {
   "cell_type": "code",
   "execution_count": null,
   "metadata": {},
   "outputs": [],
   "source": [
    "A[2,0] # Error: Cette matrice n'a que 2 lines"
   ]
  },
  {
   "cell_type": "markdown",
   "metadata": {
    "id": "1UgxYTw93Ftv"
   },
   "source": [
    "En Python, on peut utiliser le symbol \":\" pour indexer. Utilisé seul, le symbol veut dire soit \"tous les lignes ou tous les colonnes\"."
   ]
  },
  {
   "cell_type": "code",
   "execution_count": null,
   "metadata": {
    "colab": {
     "base_uri": "https://localhost:8080/"
    },
    "executionInfo": {
     "elapsed": 1101,
     "status": "ok",
     "timestamp": 1610065799768,
     "user": {
      "displayName": "Saypraseuth Mounsaveng",
      "photoUrl": "https://lh3.googleusercontent.com/a-/AOh14GhubswOkAvmZLPzVgb9RqVkEcIIwV0En8Sr9d780w=s64",
      "userId": "01609128547935706184"
     },
     "user_tz": 300
    },
    "id": "YpMik1cQ3Ftv",
    "outputId": "11990241-97d7-4f32-d1b0-14b6ad31c1b2"
   },
   "outputs": [],
   "source": [
    "print(A[:, 0]) # returns [1, 4] - la colonne 0\n",
    "\n",
    "print(A [1,:]) # returns [4,5,6] - la ligne 1"
   ]
  },
  {
   "cell_type": "markdown",
   "metadata": {
    "id": "xmKbtuMM3Ftv"
   },
   "source": [
    "On peut également utiliser le symbol \":\" pour indexer partiellement une matrice."
   ]
  },
  {
   "cell_type": "code",
   "execution_count": null,
   "metadata": {
    "colab": {
     "base_uri": "https://localhost:8080/"
    },
    "executionInfo": {
     "elapsed": 614,
     "status": "ok",
     "timestamp": 1610065812732,
     "user": {
      "displayName": "Saypraseuth Mounsaveng",
      "photoUrl": "https://lh3.googleusercontent.com/a-/AOh14GhubswOkAvmZLPzVgb9RqVkEcIIwV0En8Sr9d780w=s64",
      "userId": "01609128547935706184"
     },
     "user_tz": 300
    },
    "id": "UR0fBq_73Ftv",
    "outputId": "d160407a-6ce2-4eda-81d2-6978a4976127"
   },
   "outputs": [],
   "source": [
    "print(A[0,1:]) # retourne [2,3]: l'élément de la ligne 0, colonne 1 à la fin\n",
    "\n",
    "print(A[0,: 2]) # retourne [1,2]: l'élément de la ligne 0, colonne 0 jusqu'à 2 (= retourn colonne 0 et 1)"
   ]
  },
  {
   "cell_type": "markdown",
   "metadata": {
    "id": "ygVBGqHG3Ftw"
   },
   "source": [
    "## Python list à Numpy array\n",
    "\n",
    "Il est très facile de convertir une list à un NumPy array:\n",
    "\n",
    "**Note:** Il faut toujours convertir list à un NumPy array pour pouvoir utiliser les fonctionalités de NumPy."
   ]
  },
  {
   "cell_type": "code",
   "execution_count": null,
   "metadata": {
    "colab": {
     "base_uri": "https://localhost:8080/"
    },
    "executionInfo": {
     "elapsed": 615,
     "status": "ok",
     "timestamp": 1610065828279,
     "user": {
      "displayName": "Saypraseuth Mounsaveng",
      "photoUrl": "https://lh3.googleusercontent.com/a-/AOh14GhubswOkAvmZLPzVgb9RqVkEcIIwV0En8Sr9d780w=s64",
      "userId": "01609128547935706184"
     },
     "user_tz": 300
    },
    "id": "thtKXXy23Ftw",
    "outputId": "0673600f-ce8e-43e8-c75d-c2ed8460577b"
   },
   "outputs": [],
   "source": [
    "l = [[1,2,3], [4,5,6]]\n",
    "print(f\"List: {l}\")\n",
    "na = np.array(l)\n",
    "print(f\"NumPy array: {na}\")"
   ]
  },
  {
   "cell_type": "markdown",
   "metadata": {},
   "source": [
    "## Représentation graphique\n",
    "\n",
    "Une façon de voir les matrices est de les considérer comme une collection de vecteurs (points dans l'espace). Nous pouvons considérer chaque ligne de la matrice comme. Cette notion sera cruciale durant ce cours.\n",
    "\n",
    "Nous pouvons afficher ces point avec l'aide de **matplotlib**"
   ]
  },
  {
   "cell_type": "code",
   "execution_count": null,
   "metadata": {},
   "outputs": [],
   "source": [
    "import matplotlib.pyplot as plt\n",
    "from sklearn import datasets\n",
    "M = np.array([[1, 2],\n",
    "              [1.5, 3],\n",
    "              [3, 4.5],\n",
    "              [4,5],\n",
    "              [1, 1.5],\n",
    "              [2, 3],\n",
    "              [2, 3.5]])\n",
    "\n",
    "plt.scatter(M[:,0], M[:,1],  color='black')\n",
    "plt.xlabel('variable 1')\n",
    "plt.ylabel('variable 2')\n",
    "plt.show()"
   ]
  },
  {
   "cell_type": "markdown",
   "metadata": {
    "id": "XEDeLYqR3Ftx"
   },
   "source": [
    "## Exercice \n",
    "\n",
    "1. calculer la distance euclidienne entre le vecteur $\\mathbf{a}$ et chaque ligne (row) appartenant à la matrice $\\mathbf{B}$ (chaque ligne peut être considéré comme un différent vecteur). La distance euclidienne entre deux vecteurs est donnée par l'expression:\n",
    "\n",
    "$d(\\mathbf{p},\\mathbf{q}) = \\sqrt{(p_1-q_1)^{2} + (p_2 - q_2)^{2} + \\: ... \\: + (p_n - q_n)^{2}}$\n",
    "<br>\n",
    "<br> \n",
    "<br> \n",
    "<img src=\"Euclidean_distance_2d.png\" width=\"400\"/>\n",
    "<br> \n",
    "<br> \n",
    "\n",
    "2. Retourner un vecteur contenant toutes les distances (dist). Note, ce vecteur (dist) doit avoir le même nombre de lignes que la matrice $\\mathbf{B}$.\n",
    "\n",
    "3. Retourner l'indice de la ligne de la matrice $\\mathbf{B}$ qui est la plus proche de $\\mathbf{a}$. Vous pouvez utiliser la fonction argsort de numpy: https://numpy.org/doc/stable/reference/generated/numpy.argsort.html\n"
   ]
  },
  {
   "cell_type": "code",
   "execution_count": 5,
   "metadata": {},
   "outputs": [],
   "source": [
    "B = np.array([[1, 2],\n",
    "              [1.5, 3],\n",
    "              [3, 4.5],\n",
    "              [4,5],\n",
    "              [1, 1.5],\n",
    "              [2, 3],\n",
    "              [2, 3.5]])\n",
    "\n",
    "a = np.array([3.5, 3.5])"
   ]
  },
  {
   "cell_type": "code",
   "execution_count": 30,
   "metadata": {},
   "outputs": [],
   "source": [
    "distance = np.sqrt(np.sum((B - a) ** 2, axis=1))"
   ]
  },
  {
   "cell_type": "code",
   "execution_count": 31,
   "metadata": {},
   "outputs": [
    {
     "data": {
      "text/plain": [
       "array([2, 6, 3, 5, 1, 0, 4])"
      ]
     },
     "execution_count": 31,
     "metadata": {},
     "output_type": "execute_result"
    }
   ],
   "source": [
    "np.argsort(distance)"
   ]
  }
 ],
 "metadata": {
  "@webio": {
   "lastCommId": null,
   "lastKernelId": null
  },
  "colab": {
   "collapsed_sections": [
    "0vTR9XxW3Fto"
   ],
   "name": "Introduction+a+Python.ipynb",
   "provenance": [],
   "toc_visible": true
  },
  "kernelspec": {
   "display_name": "Python [conda env:log635]",
   "language": "python",
   "name": "conda-env-log635-py"
  },
  "language_info": {
   "codemirror_mode": {
    "name": "ipython",
    "version": 3
   },
   "file_extension": ".py",
   "mimetype": "text/x-python",
   "name": "python",
   "nbconvert_exporter": "python",
   "pygments_lexer": "ipython3",
   "version": "3.7.10"
  }
 },
 "nbformat": 4,
 "nbformat_minor": 1
}
