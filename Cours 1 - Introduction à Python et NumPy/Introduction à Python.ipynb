{
 "cells": [
  {
   "cell_type": "markdown",
   "metadata": {
    "id": "9rd5GBLX3Ftd"
   },
   "source": [
    "# Introduction à Python\n",
    "\n",
    "L'objectif de ce notebook est de se familiariser avec Python et son environnement. Il est important de suivre les étapes de ce cours et de pratiquer. Il est également important de lire la documentation officielle de Python."
   ]
  },
  {
   "cell_type": "markdown",
   "metadata": {
    "id": "uUBy_XkF3Fti"
   },
   "source": [
    "## Environnement requis\n",
    "\n",
    "Dans le cadre de ce cours, nous utiliserons principalement la plateforme Google Colab:\n",
    "[https://colab.research.google.com/notebooks/intro.ipynb](https://colab.research.google.com/notebooks/intro.ipynb)\n"
   ]
  },
  {
   "cell_type": "markdown",
   "metadata": {
    "id": "kEM_MGf33Ftj"
   },
   "source": [
    "## Les basiques de Python\n",
    "Dans ce notebook, nous allons voir les basiques de Python. Cependant, la liste n'est pas exhausive et il est fortement conseillé d'aller sur la documentation de python pour avoir plus d'information : [https://docs.python.org/fr/3.9/index.html](https://docs.python.org/fr/3.9/index.html)\n",
    "\n",
    "### Les variables\n",
    "\n",
    "Une variable en python peut avoir n'importe quel type de valeur."
   ]
  },
  {
   "cell_type": "code",
   "execution_count": 1,
   "metadata": {
    "id": "KvXqSTNN3Ftj"
   },
   "outputs": [],
   "source": [
    "a = 1 # a est de type int \n",
    "b = \"astring\" # b est de type string\n",
    "a = \"One\" # a est maintenant de type string"
   ]
  },
  {
   "cell_type": "markdown",
   "metadata": {
    "id": "S8fURqNN3Ftk"
   },
   "source": [
    "### La fonction print\n",
    "La fonction print de Python peut afficher le contenu de n'importe quelle valeur et de n'importe quelle variable."
   ]
  },
  {
   "cell_type": "code",
   "execution_count": 2,
   "metadata": {
    "colab": {
     "base_uri": "https://localhost:8080/",
     "height": 86
    },
    "executionInfo": {
     "elapsed": 605,
     "status": "ok",
     "timestamp": 1610067242131,
     "user": {
      "displayName": "Saypraseuth Mounsaveng",
      "photoUrl": "https://lh3.googleusercontent.com/a-/AOh14GhubswOkAvmZLPzVgb9RqVkEcIIwV0En8Sr9d780w=s64",
      "userId": "01609128547935706184"
     },
     "user_tz": 300
    },
    "id": "lFcsnNI33Ftk",
    "outputId": "eabe1aaa-55e3-48c8-8606-d1ea1d3888ad"
   },
   "outputs": [
    {
     "name": "stdout",
     "output_type": "stream",
     "text": [
      "1\n",
      "astring\n",
      "One\n"
     ]
    },
    {
     "data": {
      "text/plain": [
       "'1 is One'"
      ]
     },
     "execution_count": 2,
     "metadata": {},
     "output_type": "execute_result"
    }
   ],
   "source": [
    "a = 1\n",
    "c = 1\n",
    "print(a)\n",
    "b = \"astring\"\n",
    "print(b)\n",
    "a = 'One' #Les quotes simples sont la même chose que les doubles quotes\n",
    "print(a)\n",
    "f\"{c} is {a}\" #Print using f-strings"
   ]
  },
  {
   "cell_type": "markdown",
   "metadata": {},
   "source": [
    "**end** indique à la fonction **print** de ne pas terminer par une nouvelle ligne\n",
    "\n"
   ]
  },
  {
   "cell_type": "code",
   "execution_count": 3,
   "metadata": {},
   "outputs": [
    {
     "ename": "SyntaxError",
     "evalue": "invalid syntax (<ipython-input-3-4c2e12867758>, line 3)",
     "output_type": "error",
     "traceback": [
      "\u001b[0;36m  File \u001b[0;32m\"<ipython-input-3-4c2e12867758>\"\u001b[0;36m, line \u001b[0;32m3\u001b[0m\n\u001b[0;31m    print(a, end=\"\"))\u001b[0m\n\u001b[0m                    ^\u001b[0m\n\u001b[0;31mSyntaxError\u001b[0m\u001b[0;31m:\u001b[0m invalid syntax\n"
     ]
    }
   ],
   "source": [
    "a = 1\n",
    "c = 1\n",
    "print(a, end=\"\")\n",
    "b = \"astring\"\n",
    "print(b, end=\"\")\n",
    "a = 'One' #Les quotes simples sont la même chose que les doubles quotes\n",
    "print(a, end=\"\")"
   ]
  },
  {
   "cell_type": "markdown",
   "metadata": {
    "id": "CPV6nen93Ftl"
   },
   "source": [
    "## Les structures de Python\n",
    "\n",
    "Python supporte plusieurs types de structure : Tuple, List, Dictionnary....\n",
    "Très important, en Python, les indexes commencent toujours par 0.\n",
    "\n",
    "Visiter https://docs.python.org/3.9/tutorial/datastructures.html \n",
    "\n",
    "### Les lists\n",
    "Les lists en Python sont une structure de donnée qui permet de stocker plusieurs **valeurs de différents types** dans une seule variable."
   ]
  },
  {
   "cell_type": "code",
   "execution_count": null,
   "metadata": {
    "colab": {
     "base_uri": "https://localhost:8080/"
    },
    "executionInfo": {
     "elapsed": 471,
     "status": "ok",
     "timestamp": 1610297235984,
     "user": {
      "displayName": "Saypraseuth Mounsaveng",
      "photoUrl": "https://lh3.googleusercontent.com/a-/AOh14GhubswOkAvmZLPzVgb9RqVkEcIIwV0En8Sr9d780w=s64",
      "userId": "01609128547935706184"
     },
     "user_tz": 300
    },
    "id": "ft18uV3J3Ftl",
    "outputId": "92b35a34-7ab3-416c-ffeb-671e0d782c67"
   },
   "outputs": [],
   "source": [
    "l = []\n",
    "print(l)\n",
    "l = [1,2,3,4,5,6]\n",
    "print(l)\n",
    "l.append(7) # Ajoute 7 a la fin de la liste\n",
    "print(l)\n",
    "l1 = [1, \"1\", 2, \"2\"]\n",
    "print(type(l1[0]))\n",
    "print(type(l1[1]))\n",
    "# pour avoir la taille du list, on peut utiliser len\n",
    "print(len(l))\n"
   ]
  },
  {
   "cell_type": "markdown",
   "metadata": {
    "id": "FniHkj5q3Ftm"
   },
   "source": [
    "### Les tuples\n",
    "Les tuples sont une structure de donnée similaire aux lists. Contrairement aux lists, les tuples sont **immutables**."
   ]
  },
  {
   "cell_type": "code",
   "execution_count": null,
   "metadata": {
    "colab": {
     "base_uri": "https://localhost:8080/",
     "height": 248
    },
    "executionInfo": {
     "elapsed": 1059,
     "status": "error",
     "timestamp": 1610067247202,
     "user": {
      "displayName": "Saypraseuth Mounsaveng",
      "photoUrl": "https://lh3.googleusercontent.com/a-/AOh14GhubswOkAvmZLPzVgb9RqVkEcIIwV0En8Sr9d780w=s64",
      "userId": "01609128547935706184"
     },
     "user_tz": 300
    },
    "id": "Pp3vaEZk3Ftm",
    "outputId": "6ca4de4e-e0e4-4fed-8caf-1a25ff599a6e"
   },
   "outputs": [],
   "source": [
    "t = (1,2,3)\n",
    "print(t)\n",
    "t1 = (1, \"One\", 2, \"Two\")\n",
    "print(t1)\n",
    "# pour avoir la taille d'un tuple, on peut utiliser aussi len\n",
    "print(len(t1))"
   ]
  },
  {
   "cell_type": "code",
   "execution_count": null,
   "metadata": {},
   "outputs": [],
   "source": [
    "t[2] = 4 # renvoie une erreur parce que tuple est immutable"
   ]
  },
  {
   "cell_type": "markdown",
   "metadata": {
    "collapsed": true,
    "id": "jQLaWIXt3Ftm"
   },
   "source": [
    "### Les dictionnaires\n",
    "Les dictionnaires sont une structure de donnée associative. Ils associent une clé et une valeur. Les clés sont **obligatoirement uniques**."
   ]
  },
  {
   "cell_type": "code",
   "execution_count": null,
   "metadata": {
    "colab": {
     "base_uri": "https://localhost:8080/"
    },
    "executionInfo": {
     "elapsed": 379,
     "status": "ok",
     "timestamp": 1610066559385,
     "user": {
      "displayName": "Saypraseuth Mounsaveng",
      "photoUrl": "https://lh3.googleusercontent.com/a-/AOh14GhubswOkAvmZLPzVgb9RqVkEcIIwV0En8Sr9d780w=s64",
      "userId": "01609128547935706184"
     },
     "user_tz": 300
    },
    "id": "mbHlWrIt3Ftm",
    "outputId": "2157ec8c-99bd-45a5-c51f-3f6540cdc48a"
   },
   "outputs": [],
   "source": [
    "dictionary = {}\n",
    "dictionary['one'] = 1\n",
    "dictionary[1] = 1\n",
    "dictionary[2] = 'two'\n",
    "print(dictionary)\n",
    "# pour avoir la taille d'un dictionnaire, on peut utiliser aussi len\n",
    "print(len(dictionary))"
   ]
  },
  {
   "cell_type": "code",
   "execution_count": null,
   "metadata": {},
   "outputs": [],
   "source": [
    "# pour avoir toutes les clés\n",
    "dictionary.keys()"
   ]
  },
  {
   "cell_type": "code",
   "execution_count": null,
   "metadata": {},
   "outputs": [],
   "source": [
    "# pour avoir tous les elements\n",
    "dictionary.items()"
   ]
  },
  {
   "cell_type": "markdown",
   "metadata": {
    "id": "gPQBQmke3Ftn"
   },
   "source": [
    "### Les conditions if/else en Python\n",
    "\n",
    "Comme tous les languages de programmation, Python possède des conditions sous forme de if/elif/else"
   ]
  },
  {
   "cell_type": "code",
   "execution_count": null,
   "metadata": {
    "colab": {
     "base_uri": "https://localhost:8080/"
    },
    "executionInfo": {
     "elapsed": 391,
     "status": "ok",
     "timestamp": 1610066561669,
     "user": {
      "displayName": "Saypraseuth Mounsaveng",
      "photoUrl": "https://lh3.googleusercontent.com/a-/AOh14GhubswOkAvmZLPzVgb9RqVkEcIIwV0En8Sr9d780w=s64",
      "userId": "01609128547935706184"
     },
     "user_tz": 300
    },
    "id": "vee_2T1F3Ftn",
    "outputId": "1665ba16-4208-4953-e0b6-5f3c9210e15b"
   },
   "outputs": [],
   "source": [
    "a = 1\n",
    "b = a + 1\n",
    "c = 1\n",
    "d = 2\n",
    "if b % 2 == 0 and a == 1:\n",
    "    print(\"IF\")\n",
    "elif c == 1 or d == 2:\n",
    "    print(\"ELIF\")\n",
    "else:\n",
    "    print(\"ELSE\")\n"
   ]
  },
  {
   "cell_type": "markdown",
   "metadata": {
    "id": "ijGtc2LM3Ftn"
   },
   "source": [
    "### Les loops/boucle en Python\n",
    "\n",
    "Python possède 2 types de boucle While et For.\n",
    "#### While loop\n",
    "La boucle while est une boucle permettant de continuer une opération tant que la condition de la boucle est toujours remplie."
   ]
  },
  {
   "cell_type": "code",
   "execution_count": null,
   "metadata": {
    "colab": {
     "base_uri": "https://localhost:8080/"
    },
    "executionInfo": {
     "elapsed": 341,
     "status": "ok",
     "timestamp": 1610066564963,
     "user": {
      "displayName": "Saypraseuth Mounsaveng",
      "photoUrl": "https://lh3.googleusercontent.com/a-/AOh14GhubswOkAvmZLPzVgb9RqVkEcIIwV0En8Sr9d780w=s64",
      "userId": "01609128547935706184"
     },
     "user_tz": 300
    },
    "id": "hRU98liU3Fto",
    "outputId": "ff10374a-fc7a-4d2d-a88a-8805b38769bb"
   },
   "outputs": [],
   "source": [
    "n = 10\n",
    "while n > 0:\n",
    "    print(n)\n",
    "    n -= 1"
   ]
  },
  {
   "cell_type": "markdown",
   "metadata": {
    "id": "0vTR9XxW3Fto"
   },
   "source": [
    "#### For loop\n",
    "La boucle for est très similaire a la boucle while. En python, la boucle for est beaucoup plus souvent utilisée parce qu'on peut itérer directement sur les contenus des structures."
   ]
  },
  {
   "cell_type": "code",
   "execution_count": null,
   "metadata": {
    "colab": {
     "base_uri": "https://localhost:8080/"
    },
    "executionInfo": {
     "elapsed": 319,
     "status": "ok",
     "timestamp": 1610297407638,
     "user": {
      "displayName": "Saypraseuth Mounsaveng",
      "photoUrl": "https://lh3.googleusercontent.com/a-/AOh14GhubswOkAvmZLPzVgb9RqVkEcIIwV0En8Sr9d780w=s64",
      "userId": "01609128547935706184"
     },
     "user_tz": 300
    },
    "id": "5_b8CnSM3Fto",
    "outputId": "85e42800-bfb9-4be2-8bd5-4b5e92eb4b01"
   },
   "outputs": [],
   "source": [
    "l = [7,6,5,4,3,2,1]\n",
    "\n",
    "#For each loop sur une liste\n",
    "for element in l:\n",
    "    print(element)\n",
    "    "
   ]
  },
  {
   "cell_type": "code",
   "execution_count": null,
   "metadata": {
    "colab": {
     "base_uri": "https://localhost:8080/"
    },
    "executionInfo": {
     "elapsed": 368,
     "status": "ok",
     "timestamp": 1610297478252,
     "user": {
      "displayName": "Saypraseuth Mounsaveng",
      "photoUrl": "https://lh3.googleusercontent.com/a-/AOh14GhubswOkAvmZLPzVgb9RqVkEcIIwV0En8Sr9d780w=s64",
      "userId": "01609128547935706184"
     },
     "user_tz": 300
    },
    "id": "wjonLmZh3Ftp",
    "outputId": "3d812fb6-d21f-4d70-899a-1704c73716a0"
   },
   "outputs": [],
   "source": [
    "#For loop avec index\n",
    "for index in range(0,len(l)):\n",
    "    print(index)\n",
    "    "
   ]
  },
  {
   "cell_type": "code",
   "execution_count": null,
   "metadata": {
    "colab": {
     "base_uri": "https://localhost:8080/"
    },
    "executionInfo": {
     "elapsed": 325,
     "status": "ok",
     "timestamp": 1610066595880,
     "user": {
      "displayName": "Saypraseuth Mounsaveng",
      "photoUrl": "https://lh3.googleusercontent.com/a-/AOh14GhubswOkAvmZLPzVgb9RqVkEcIIwV0En8Sr9d780w=s64",
      "userId": "01609128547935706184"
     },
     "user_tz": 300
    },
    "id": "Gb5f40vT3Ftp",
    "outputId": "0ef978f5-c9f3-4d9b-e6e9-d1c9a916bc4e"
   },
   "outputs": [],
   "source": [
    "#For loop avec index et element\n",
    "for index, element in enumerate(l):\n",
    "    print(index,element)"
   ]
  },
  {
   "cell_type": "markdown",
   "metadata": {
    "id": "Bo-PXf2K3Ftp"
   },
   "source": [
    "### Fonctions\n",
    "Une fonction peut etre créer de maniere très simple en Python:"
   ]
  },
  {
   "cell_type": "code",
   "execution_count": null,
   "metadata": {
    "colab": {
     "base_uri": "https://localhost:8080/"
    },
    "executionInfo": {
     "elapsed": 357,
     "status": "ok",
     "timestamp": 1610066598755,
     "user": {
      "displayName": "Saypraseuth Mounsaveng",
      "photoUrl": "https://lh3.googleusercontent.com/a-/AOh14GhubswOkAvmZLPzVgb9RqVkEcIIwV0En8Sr9d780w=s64",
      "userId": "01609128547935706184"
     },
     "user_tz": 300
    },
    "id": "M8uUAdnt3Ftq",
    "outputId": "ef9714ee-d944-4979-ca30-b88090e43b02"
   },
   "outputs": [],
   "source": [
    "def add_and_print(x, y):\n",
    "    res = x + y\n",
    "    print(res)\n",
    "    return res\n",
    "\n",
    "a = add_and_print(1,2)"
   ]
  },
  {
   "cell_type": "markdown",
   "metadata": {},
   "source": [
    "#### Les fonctions peuvent être passées comme arguments à d'autres fonctions"
   ]
  },
  {
   "cell_type": "code",
   "execution_count": null,
   "metadata": {},
   "outputs": [],
   "source": [
    "def hello(name):\n",
    "    return \"Hello \" + name \n",
    "\n",
    "def call_func(function, name):\n",
    "    return function(name)  \n",
    "\n",
    "call_func(hello, 'LOG635')"
   ]
  },
  {
   "cell_type": "markdown",
   "metadata": {},
   "source": [
    "#### Les fonctions peuvent returner d'autres fonctions\n"
   ]
  },
  {
   "cell_type": "code",
   "execution_count": null,
   "metadata": {},
   "outputs": [],
   "source": [
    "def compose_greet_func():\n",
    "    def get_message():\n",
    "        return \"Hello there!\"\n",
    "\n",
    "    return get_message\n",
    "\n",
    "greet = compose_greet_func()\n",
    "greet()"
   ]
  },
  {
   "cell_type": "markdown",
   "metadata": {
    "id": "bLjSuNCu3Ftq"
   },
   "source": [
    "### Lecture et écriture de fichier\n",
    "\n",
    "La lecture et écriture en Python est très simple. \n",
    "\n",
    "Example:"
   ]
  },
  {
   "cell_type": "code",
   "execution_count": null,
   "metadata": {
    "colab": {
     "base_uri": "https://localhost:8080/"
    },
    "executionInfo": {
     "elapsed": 352,
     "status": "ok",
     "timestamp": 1610298928481,
     "user": {
      "displayName": "Saypraseuth Mounsaveng",
      "photoUrl": "https://lh3.googleusercontent.com/a-/AOh14GhubswOkAvmZLPzVgb9RqVkEcIIwV0En8Sr9d780w=s64",
      "userId": "01609128547935706184"
     },
     "user_tz": 300
    },
    "id": "iHcmCLvORL86",
    "outputId": "6045a01c-2767-4c57-f72b-b426dbacd61d"
   },
   "outputs": [],
   "source": [
    "from google.colab import drive  # sur google colab seulement\n",
    "drive.mount('/content/drive')"
   ]
  },
  {
   "cell_type": "code",
   "execution_count": null,
   "metadata": {
    "colab": {
     "base_uri": "https://localhost:8080/"
    },
    "executionInfo": {
     "elapsed": 499,
     "status": "ok",
     "timestamp": 1610298802099,
     "user": {
      "displayName": "Saypraseuth Mounsaveng",
      "photoUrl": "https://lh3.googleusercontent.com/a-/AOh14GhubswOkAvmZLPzVgb9RqVkEcIIwV0En8Sr9d780w=s64",
      "userId": "01609128547935706184"
     },
     "user_tz": 300
    },
    "id": "NfLJgzs6R3YM",
    "outputId": "c50d9765-acab-46f5-9d96-77b195f3b42e"
   },
   "outputs": [],
   "source": [
    "with open('/content/drive/My Drive/colab/exemple.txt', 'w') as f:\n",
    "  f.write('Bonjour!')\n",
    "!cat /content/drive/My\\ Drive/colab/exemple.txt"
   ]
  },
  {
   "cell_type": "code",
   "execution_count": null,
   "metadata": {
    "executionInfo": {
     "elapsed": 335,
     "status": "ok",
     "timestamp": 1610298932666,
     "user": {
      "displayName": "Saypraseuth Mounsaveng",
      "photoUrl": "https://lh3.googleusercontent.com/a-/AOh14GhubswOkAvmZLPzVgb9RqVkEcIIwV0En8Sr9d780w=s64",
      "userId": "01609128547935706184"
     },
     "user_tz": 300
    },
    "id": "ipZZHZWi3Ftq"
   },
   "outputs": [],
   "source": [
    "# Ecriture de fichier\n",
    "fid = open('/content/drive/My Drive/colab/exemple2.txt', 'w') # option w veut dire write\n",
    "l1 = \"This is a normal line\"\n",
    "fid.write(l1)\n",
    "l2 = \"Si tu veux une nouvelle ligne, il faut ajouter\\n\"\n",
    "fid.write(l2)\n",
    "l3 = \"Ceci est la ligne 3\"\n",
    "fid.write(l3)\n",
    "fid.close() # Fermeture de fichier"
   ]
  },
  {
   "cell_type": "code",
   "execution_count": null,
   "metadata": {
    "colab": {
     "base_uri": "https://localhost:8080/"
    },
    "executionInfo": {
     "elapsed": 347,
     "status": "ok",
     "timestamp": 1610298967854,
     "user": {
      "displayName": "Saypraseuth Mounsaveng",
      "photoUrl": "https://lh3.googleusercontent.com/a-/AOh14GhubswOkAvmZLPzVgb9RqVkEcIIwV0En8Sr9d780w=s64",
      "userId": "01609128547935706184"
     },
     "user_tz": 300
    },
    "id": "wxwhK6rC3Ftq",
    "outputId": "657fde24-f71c-4b18-ed46-101bfc67248b"
   },
   "outputs": [],
   "source": [
    "# Lecture de ficher entier\n",
    "fid = open('/content/drive/My Drive/colab/exemple2.txt', 'r') # option r veut dire read\n",
    "txt = fid.read() # Cette ligne permet de lire tout le fichier \n",
    "print(txt)\n",
    "fid.close() # Fermeture de fichier"
   ]
  },
  {
   "cell_type": "code",
   "execution_count": null,
   "metadata": {
    "colab": {
     "base_uri": "https://localhost:8080/"
    },
    "executionInfo": {
     "elapsed": 297,
     "status": "ok",
     "timestamp": 1610299009198,
     "user": {
      "displayName": "Saypraseuth Mounsaveng",
      "photoUrl": "https://lh3.googleusercontent.com/a-/AOh14GhubswOkAvmZLPzVgb9RqVkEcIIwV0En8Sr9d780w=s64",
      "userId": "01609128547935706184"
     },
     "user_tz": 300
    },
    "id": "PPpApkFd3Ftq",
    "outputId": "f5a7cbe9-3e34-48d8-ea19-ed676f3b81a3"
   },
   "outputs": [],
   "source": [
    "#lecture de ficher ligne par ligne\n",
    "fid = open('/content/drive/My Drive/colab/exemple2.txt', 'r') # option r veut dire read\n",
    "for line in fid:\n",
    "    print(line)\n",
    "fid.close() # Fermeture de fichier"
   ]
  },
  {
   "cell_type": "markdown",
   "metadata": {
    "id": "5orCypag3Ftr"
   },
   "source": [
    "### Les objets\n",
    "\n",
    "Python est un language orientée objet, cela veut dire qu'on peut créer des object et leur donner des fonctionnalités. Étant donné que ce cours n'est pas un cours de programmation, seule une description rapide vous est donnée ici.\n"
   ]
  },
  {
   "cell_type": "code",
   "execution_count": null,
   "metadata": {
    "colab": {
     "base_uri": "https://localhost:8080/"
    },
    "executionInfo": {
     "elapsed": 366,
     "status": "ok",
     "timestamp": 1610297547062,
     "user": {
      "displayName": "Saypraseuth Mounsaveng",
      "photoUrl": "https://lh3.googleusercontent.com/a-/AOh14GhubswOkAvmZLPzVgb9RqVkEcIIwV0En8Sr9d780w=s64",
      "userId": "01609128547935706184"
     },
     "user_tz": 300
    },
    "id": "DTueVxvJ3Ftr",
    "outputId": "ef60b1ed-f47c-4a8f-d29f-1a48b97177e5"
   },
   "outputs": [],
   "source": [
    "class MyClass:\n",
    "    def __init__(self, something):\n",
    "        # __init__(self,...) est un constructor\n",
    "        # Un constructor permet de specifier comment on peut construire un objet\n",
    "        self.somethingElse = something\n",
    "        # self.somethingElse est un attriubte de notre objet\n",
    "        # self est une reference a notre objet\n",
    "    def myMethod(self):\n",
    "        # myMethod est une methode de notre object\n",
    "        # pour specifier une méthode dans un objet, il suffit de déclarer une fonction dans le scope de l'objet\n",
    "        # il faut également que \"self\" soit le premier parametre de notre méthode\n",
    "        print(self.somethingElse)\n",
    "        \n",
    "aVariable = MyClass(\"Quelque chose\")\n",
    "aVariable.myMethod()"
   ]
  },
  {
   "cell_type": "markdown",
   "metadata": {
    "id": "nWKCGPk_3Ftr"
   },
   "source": [
    "### Import des packages en Python\n",
    "\n",
    "Par défault, Python ne possède pas toutes les fonctionnalités, en important des packages, on donne a Python plus de fonctionnalités.\n",
    "\n",
    "Example:\n"
   ]
  },
  {
   "cell_type": "code",
   "execution_count": null,
   "metadata": {
    "id": "p1DzIMw83Fts"
   },
   "outputs": [],
   "source": [
    "import numpy #import numpy the mathematical package\n",
    "\n",
    "# Pour utiliser numpy il faut ajouter le prefix numpy devant les fonctions\n",
    "a = numpy.ones(4)\n",
    "\n",
    "# Cette écriture est longue, on peut donner un alias a un package pour gagner en temps\n",
    "import numpy as np\n",
    "\n",
    "# Meme chose qu'en haut except on utilise notre alias np\n",
    "a = np.ones(4)\n"
   ]
  },
  {
   "cell_type": "markdown",
   "metadata": {
    "id": "tPcVhLqe3Fts"
   },
   "source": [
    "On peut également n'importer qu'une partie d'un package\n",
    "Exemple:"
   ]
  },
  {
   "cell_type": "code",
   "execution_count": null,
   "metadata": {
    "id": "ryRtIY9r3Fts"
   },
   "outputs": [],
   "source": [
    "from numpy import ones\n",
    "a = ones(4) # Remarque: On n'a plus besoin d'utiliser le prefix ici\n",
    "\n",
    "# Bien sur, on peut importer plusieurs fonction en meme temps\n",
    "\n",
    "from numpy import zeros, array"
   ]
  },
  {
   "cell_type": "markdown",
   "metadata": {
    "id": "FDuR6mAA3Fts"
   },
   "source": [
    "**À eviter:**"
   ]
  },
  {
   "cell_type": "code",
   "execution_count": null,
   "metadata": {
    "id": "jINPh5PZ3Fts"
   },
   "outputs": [],
   "source": [
    "from numpy import * # Ici, on importe tous les fonctions de numpy et on pourra les utiliser sans prefix.\n",
    "                    # !!!!!, Cette écriture est à éviter absolutment parce qu'il réduit la visibilité du code \n",
    "                    # et peut entrainer des erreurs.\n",
    "                    # Évitez d'utiliser cette écriture dans vos codes.\n"
   ]
  },
  {
   "cell_type": "markdown",
   "metadata": {
    "id": "f6RLF3Y43Ftw"
   },
   "source": [
    "## Matplotlib\n",
    "Matplotlib est un package permettant d'afficher les figures."
   ]
  },
  {
   "cell_type": "code",
   "execution_count": null,
   "metadata": {},
   "outputs": [],
   "source": [
    "%matplotlib inline   \n",
    "import matplotlib.pyplot as plt"
   ]
  },
  {
   "cell_type": "code",
   "execution_count": null,
   "metadata": {
    "colab": {
     "base_uri": "https://localhost:8080/",
     "height": 550
    },
    "executionInfo": {
     "elapsed": 490,
     "status": "ok",
     "timestamp": 1610297824896,
     "user": {
      "displayName": "Saypraseuth Mounsaveng",
      "photoUrl": "https://lh3.googleusercontent.com/a-/AOh14GhubswOkAvmZLPzVgb9RqVkEcIIwV0En8Sr9d780w=s64",
      "userId": "01609128547935706184"
     },
     "user_tz": 300
    },
    "id": "Vm3WDwYC3Ftw",
    "outputId": "01852b2b-681b-4ccb-e39a-fcb0a02609b6"
   },
   "outputs": [],
   "source": [
    "x = np.arange(0, 2*np.pi, 0.1) # On crée une liste x de 0 à 2 * PI avec un pas de 0.1\n",
    "print(x)\n",
    "y = np.sin(x) # On applique la fonction sinus à la liste x\n",
    "print(y)\n",
    "\n",
    "plt.plot(x,y,'o')\n",
    "plt.xlabel('x axis')\n",
    "plt.ylabel('y axis')\n",
    "plt.title('Easy')\n",
    "plt.grid(True)\n",
    "plt.show()"
   ]
  },
  {
   "cell_type": "markdown",
   "metadata": {
    "id": "qIAYdkAO3Ftx"
   },
   "source": [
    "### Aide\n",
    "\n",
    "Pour obtenir de l'aide, vous pouvez utiliser la commande \"?\" accéder a l'aide en ligne.\n",
    "Vous pouvez également utiliser la fonction \"help\" pour obtenir des informations sur un objet Python."
   ]
  },
  {
   "cell_type": "code",
   "execution_count": null,
   "metadata": {
    "colab": {
     "base_uri": "https://localhost:8080/"
    },
    "executionInfo": {
     "elapsed": 698,
     "status": "ok",
     "timestamp": 1610065880822,
     "user": {
      "displayName": "Saypraseuth Mounsaveng",
      "photoUrl": "https://lh3.googleusercontent.com/a-/AOh14GhubswOkAvmZLPzVgb9RqVkEcIIwV0En8Sr9d780w=s64",
      "userId": "01609128547935706184"
     },
     "user_tz": 300
    },
    "id": "Za-GE39F3Ftx",
    "outputId": "baea6b89-67f7-47fb-f7b8-f6dcd021dca5"
   },
   "outputs": [],
   "source": [
    "help(list)"
   ]
  },
  {
   "cell_type": "markdown",
   "metadata": {},
   "source": [
    "### list comprehensions can create lists as follows:  \n",
    "\n",
    "    [statement for var in iterable if condition]  \n",
    "    \n",
    "### generator:  font la même chose, mais sont \"Lazy\" : ils ne créent pas la liste avant d'en avoir besoin:  \n",
    "\n",
    "    (statement for var in list if condition)"
   ]
  },
  {
   "cell_type": "code",
   "execution_count": null,
   "metadata": {},
   "outputs": [],
   "source": [
    "a = [2, 3, 4, 5]\n",
    "\n",
    "lc = [ x for x in a if x >= 4 ] # List comprehension. Square brackets\n",
    "lg = ( x for x in a if x >= 4 ) # Generator. Round brackets\n",
    "\n",
    "a.extend([6,7,8,9])\n",
    "\n",
    "print(\"List comprehension\")\n",
    "for i in lc:\n",
    "    print(i) \n",
    "print(\"\\n\")\n",
    "print(\"Generator comprehension\")\n",
    "for i in lg:\n",
    "    print(i)"
   ]
  },
  {
   "cell_type": "markdown",
   "metadata": {
    "id": "c38bS2lW3Ftx"
   },
   "source": [
    "# Quelques bibliothèques utiles\n",
    "\n",
    "Il y a beaucoup de bibliothèque en Python, pour ce cours, nous vous conseillons d'aller lire les informations/tutoriels des packages suivants :\n",
    "1. **Scikit-learn** Bibliothèque principale d'apprentissage automatique en Python (et je dirais de n'importe quel language de programmation) - http://scikit-learn.org/\n",
    "2. **Pandas** - Bibliothèque utilisée pour la manipulation, traitement et visualisation des données: https://pandas.pydata.org/\n",
    "\n",
    "3. **Natural Language Toolkit (nltk)** - Bibliothèque utilisée pour le traitement du langage naturel https://www.nltk.org"
   ]
  }
 ],
 "metadata": {
  "colab": {
   "collapsed_sections": [
    "0vTR9XxW3Fto"
   ],
   "name": "Introduction+a+Python.ipynb",
   "provenance": [],
   "toc_visible": true
  },
  "kernelspec": {
   "display_name": "Python [conda env:log635]",
   "language": "python",
   "name": "conda-env-log635-py"
  },
  "language_info": {
   "codemirror_mode": {
    "name": "ipython",
    "version": 3
   },
   "file_extension": ".py",
   "mimetype": "text/x-python",
   "name": "python",
   "nbconvert_exporter": "python",
   "pygments_lexer": "ipython3",
   "version": "3.7.10"
  }
 },
 "nbformat": 4,
 "nbformat_minor": 1
}
