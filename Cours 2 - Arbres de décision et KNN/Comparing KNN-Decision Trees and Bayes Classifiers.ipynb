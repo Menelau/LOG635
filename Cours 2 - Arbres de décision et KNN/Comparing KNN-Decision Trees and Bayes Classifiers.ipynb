{
 "cells": [
  {
   "cell_type": "code",
   "execution_count": null,
   "metadata": {},
   "outputs": [],
   "source": [
    "import numpy as np\n",
    "from sklearn.neighbors import KNeighborsClassifier\n",
    "from sklearn.naive_bayes import GaussianNB\n",
    "from sklearn.tree import DecisionTreeClassifier\n",
    "from sklearn.model_selection import train_test_split\n",
    "from sklearn.datasets import fetch_openml\n",
    "\n",
    "from sklearn.preprocessing import StandardScaler"
   ]
  },
  {
   "cell_type": "markdown",
   "metadata": {},
   "source": [
    "## Function to fetch any dataset available on OpenML. You can freely use that to try these methods over different datasets\n",
    "\n",
    "This example is based on the Spambase dataset to detect spam in emails.\n",
    "\n",
    "Other datasets to try (Suggestion):\n",
    "\n",
    "- **phoneme**\n",
    "- **australian**\n",
    "- **diabetes**\n",
    "- **wdbc**\n",
    "- **letter**\n",
    "\n",
    "Whole list of avaliable datasets as well as its descriptions can be found in the original webpage: www.openml.org"
   ]
  },
  {
   "cell_type": "code",
   "execution_count": null,
   "metadata": {},
   "outputs": [],
   "source": [
    "X, y = fetch_openml('spambase', return_X_y=True) # \n",
    "X_train, X_test, y_train, y_test = train_test_split(X, y, test_size=0.33, random_state=42)"
   ]
  },
  {
   "cell_type": "markdown",
   "metadata": {},
   "source": [
    "## Preparing Techniques\n",
    "\n",
    "Note The hyperparameters setting like the n_neighbors (k value), and max_depth for the DecisionTreeClassifier. See how changing these configurations can significantly change the performance of your algorithm."
   ]
  },
  {
   "cell_type": "code",
   "execution_count": null,
   "metadata": {},
   "outputs": [],
   "source": [
    "knn = KNeighborsClassifier(n_neighbors=3)\n",
    "tree = DecisionTreeClassifier(max_depth=5, criterion='entropy')\n",
    "bayes = GaussianNB()\n",
    "\n",
    "classifiers = [knn, tree, bayes]\n",
    "names = ['3-NN', 'Decision Tree', 'Gaussian NB']"
   ]
  },
  {
   "cell_type": "code",
   "execution_count": null,
   "metadata": {},
   "outputs": [],
   "source": [
    "for clf, name in zip(classifiers, names):\n",
    "    clf.fit(X_train, y_train)\n",
    "    print(f\"Score {name}: {clf.score(X_test, y_test)}\")"
   ]
  },
  {
   "cell_type": "markdown",
   "metadata": {},
   "source": [
    "## Scaling the data\n",
    "\n",
    "It is very important to normalize your input data (in particular before using a KNN classifier) since each feature can be in a different scale. So, the Euclidean distance is dominated by features with larger ranges (e.g., [10, 1000] compared to others between [0, 1].\n",
    "\n",
    "Scaling is a transformation that also \"learns from the data\" (learns the maximum and minimum values for instance. For a serious experiment avoid all sort of biases it is essential to lear this transformation using the training data only. Then, it can be applied to the test data. Here is an example:"
   ]
  },
  {
   "cell_type": "code",
   "execution_count": null,
   "metadata": {},
   "outputs": [],
   "source": [
    "scaler = StandardScaler()\n",
    "scaler.fit(X_train)\n",
    "X_train = scaler.transform(X_train) \n",
    "X_test = scaler.transform(X_test)"
   ]
  },
  {
   "cell_type": "markdown",
   "metadata": {},
   "source": [
    "## Running after scaling"
   ]
  },
  {
   "cell_type": "code",
   "execution_count": null,
   "metadata": {},
   "outputs": [],
   "source": [
    "for clf, name in zip(classifiers, names):\n",
    "    clf.fit(X_train, y_train)\n",
    "    print(f\"Score {name}: {clf.score(X_test, y_test)}\")"
   ]
  },
  {
   "cell_type": "markdown",
   "metadata": {},
   "source": [
    "See now how the peformance of the KNN classifier is much better!"
   ]
  }
 ],
 "metadata": {
  "@webio": {
   "lastCommId": null,
   "lastKernelId": null
  },
  "kernelspec": {
   "display_name": "Python [conda env:log635]",
   "language": "python",
   "name": "conda-env-log635-py"
  },
  "language_info": {
   "codemirror_mode": {
    "name": "ipython",
    "version": 3
   },
   "file_extension": ".py",
   "mimetype": "text/x-python",
   "name": "python",
   "nbconvert_exporter": "python",
   "pygments_lexer": "ipython3",
   "version": "3.7.10"
  }
 },
 "nbformat": 4,
 "nbformat_minor": 2
}
