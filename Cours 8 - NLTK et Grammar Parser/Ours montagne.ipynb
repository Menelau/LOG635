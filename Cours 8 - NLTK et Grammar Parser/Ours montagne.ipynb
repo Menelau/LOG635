{
 "cells": [
  {
   "cell_type": "code",
   "execution_count": 1,
   "metadata": {},
   "outputs": [],
   "source": [
    "import nltk\n",
    "ours_grammar = nltk.CFG.fromstring(\"\"\"\n",
    "                                       S -> S PP\n",
    "                                       S -> NP VP\n",
    "                                       NP -> Pro\n",
    "                                       NP -> Det N\n",
    "                                       NP -> NP PP\n",
    "                                       VP -> V\n",
    "                                       VP -> V NP\n",
    "                                       VP -> VP PP\n",
    "                                       PP -> P NP\n",
    "                                       Pro -> 'Il'\n",
    "                                       V -> 'a_vu'\n",
    "                                       P -> 'sur' | 'pendant'\n",
    "                                       Det -> 'la' | 'le'\n",
    "                                       N -> 'nuit' | 'ours' | 'montagne'                                       \n",
    "                                        \"\"\")\n",
    "\n",
    "sent = [\"Il\", \"a_vu\", \"le\", \"ours\", \"sur\", \"la\", \n",
    "        \"montagne\", \"pendant\", \"la\", \"nuit\"]"
   ]
  },
  {
   "cell_type": "code",
   "execution_count": 2,
   "metadata": {},
   "outputs": [],
   "source": [
    "parser = nltk.ChartParser(ours_grammar)\n",
    "\n",
    "from nltk.draw.util import CanvasFrame\n",
    "from nltk.draw import TreeWidget\n",
    "\n",
    "\n",
    "\n",
    "from nltk.draw.tree import draw_trees\n",
    "for idx, tree in enumerate(parser.parse(sent)):\n",
    "    cf = CanvasFrame()\n",
    "    tc = TreeWidget(cf.canvas(),tree)\n",
    "    cf.add_widget(tc,10,10) # (10,10) offsets\n",
    "    cf.print_to_file('tree'+idx.ps')\n",
    "    cf.destroy()\n",
    "\n",
    "\n",
    "    tree.draw()"
   ]
  }
 ],
 "metadata": {
  "kernelspec": {
   "display_name": "Python [conda env:log635]",
   "language": "python",
   "name": "conda-env-log635-py"
  },
  "language_info": {
   "codemirror_mode": {
    "name": "ipython",
    "version": 3
   },
   "file_extension": ".py",
   "mimetype": "text/x-python",
   "name": "python",
   "nbconvert_exporter": "python",
   "pygments_lexer": "ipython3",
   "version": "3.7.10"
  }
 },
 "nbformat": 4,
 "nbformat_minor": 4
}
