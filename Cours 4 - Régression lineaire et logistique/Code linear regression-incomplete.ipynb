{
 "cells": [
  {
   "cell_type": "code",
   "execution_count": 1,
   "metadata": {},
   "outputs": [],
   "source": [
    "import numpy as np\n",
    "import pandas as pd\n",
    "import matplotlib.pyplot as plt"
   ]
  },
  {
   "cell_type": "markdown",
   "metadata": {},
   "source": [
    "## Code forward pass\n",
    "\n",
    "Note that the way scikit-learn encode the datasets is different (row represents a sample, columns features). So we need to change the matrix order in the multiplication\n",
    "\n",
    "\n",
    "$\\mathbf{x} = \\begin{bmatrix}\n",
    "x_0\\\\ \n",
    "x_1\\\\ \n",
    "x_2\\\\ \n",
    "...\\\\ \n",
    "x_d\n",
    "\\end{bmatrix}$ ,       $\\mathbf{w} = \\begin{bmatrix}\n",
    "w_0\\\\ \n",
    "w_1\\\\ \n",
    "w_2\\\\ \n",
    "...\\\\ \n",
    "w_d\n",
    "\\end{bmatrix}$\n",
    "\n",
    "$\\large h(\\mathbf{x}) = \\mathbf{w}^T \\mathbf{x}$\n",
    "\n",
    "This formula assumes each exemple is represented by a column. However in Python (scikit-learn we do the oposite). \n",
    "\n",
    "Also the weights are represented by row vectors instead of columns (1D numpy arrays)\n",
    "\n",
    "So for implemetation we need to change to:\n",
    "\n",
    "\n",
    "$\\large h(\\mathbf{x}) = \\mathbf{x}\\mathbf{w}$\n"
   ]
  },
  {
   "cell_type": "code",
   "execution_count": 2,
   "metadata": {},
   "outputs": [],
   "source": [
    "X = np.array([[1], [2], [3]])\n",
    "y = np.array([1, 2, 3])\n",
    "w = np.array([0]) #init weights\n"
   ]
  },
  {
   "cell_type": "code",
   "execution_count": 6,
   "metadata": {},
   "outputs": [
    {
     "name": "stdout",
     "output_type": "stream",
     "text": [
      "(3, 1)\n",
      "(3,)\n",
      "(1,)\n"
     ]
    }
   ],
   "source": [
    "print(X.shape)\n",
    "print(y.shape)\n",
    "print(w.shape)"
   ]
  },
  {
   "cell_type": "code",
   "execution_count": 24,
   "metadata": {},
   "outputs": [],
   "source": [
    "#code here\n",
    "hx = np.dot(X, w)"
   ]
  },
  {
   "cell_type": "markdown",
   "metadata": {},
   "source": [
    "## Code Cost function (MSE ) \n",
    "\n",
    "Equation:\n",
    "\n",
    "$\\Large J(\\mathbf{w}) = \\frac{1}{2N}\\sum_{i=1}^{N} (h(\\mathbf{x}_i) - y_i)^2$\n",
    "\n",
    "4 steps:\n",
    "\n",
    "- Get the difference between predictins and targets\n",
    "- Square their differences\n",
    "- Get the mean difference\n",
    "- divide by two\n",
    "\n",
    "Test case:\n",
    "\n",
    "- hx = [0, 0, 0]\n",
    "\n",
    "- y = [1, 2, 3]\n",
    "\n",
    "Result\n",
    "\n",
    "- J(w) = 2.333333...\n"
   ]
  },
  {
   "cell_type": "code",
   "execution_count": 25,
   "metadata": {},
   "outputs": [
    {
     "name": "stdout",
     "output_type": "stream",
     "text": [
      "1.9273291897942386\n"
     ]
    }
   ],
   "source": [
    "#code here\n",
    "diff = hx - y\n",
    "diff_squared = diff ** 2\n",
    "somme = np.sum(diff_squared)\n",
    "mse = somme / (2 * y.size)\n",
    "print(mse)"
   ]
  },
  {
   "cell_type": "markdown",
   "metadata": {},
   "source": [
    "## Code Gradients estimation\n",
    "\n",
    "$\\large \\nabla J(\\mathbf{W}) = \\frac{1}{N} \\sum_{i=1}^{N} (h(\\mathbf{x}_i) - y_i)\\mathbf{x}_i$\n",
    "\n",
    "Test case:\n",
    "\n",
    "- hx = [0, 0, 0]\n",
    "\n",
    "- X = [1, 2, 3]\n",
    "\n",
    "- y = [1, 2, 3]\n",
    "\n",
    "Result:\n",
    "\n",
    "- J'(w) = -4.6666"
   ]
  },
  {
   "cell_type": "code",
   "execution_count": 26,
   "metadata": {},
   "outputs": [],
   "source": [
    "# code here\n",
    "diff = hx - y\n",
    "grad = np.dot(diff, X) / y.size"
   ]
  },
  {
   "cell_type": "markdown",
   "metadata": {},
   "source": [
    "## Code Gradient descent\n",
    "\n",
    "$\\mathbf{w}^{iter+1} = \\mathbf{w}^{iter} - \\alpha \\nabla J(\\mathbf{w})$"
   ]
  },
  {
   "cell_type": "code",
   "execution_count": 27,
   "metadata": {},
   "outputs": [
    {
     "name": "stdout",
     "output_type": "stream",
     "text": [
      "[0.1335683]\n"
     ]
    }
   ],
   "source": [
    "#code here\n",
    "alpha = 0.01\n",
    "w = w - (alpha * grad)\n",
    "print(w)"
   ]
  },
  {
   "cell_type": "markdown",
   "metadata": {},
   "source": [
    "## Régression Linéaire"
   ]
  },
  {
   "cell_type": "code",
   "execution_count": 28,
   "metadata": {},
   "outputs": [],
   "source": [
    "class LinearRegression:\n",
    "    \n",
    "    def __init__(self, n_iter, learning_rate):\n",
    "        self.n_iter = n_iter # for stopping criteria, we could do better here...\n",
    "        self.learning_rate = learning_rate\n",
    "        self.J_history = [] # keep optimisation history\n",
    "        \n",
    "    def fit(self, X, y):\n",
    "        \"\"\"Function with the training code. Learn the parameters W of the model\"\"\"\n",
    "        \n",
    "        # keep information of number of examples and dimensions.\n",
    "        self.n_samples = X.shape[0]\n",
    "        self.n_features = X.shape[1]\n",
    "        \n",
    "        # add ones for the bias.\n",
    "        x_0 = np.ones((self.n_samples, 1))\n",
    "        X_tmp = np.hstack((x_0, X))\n",
    "        \n",
    "        # initialize weights 'W' of the model randomly\n",
    "        self.W = np.random.rand(self.n_features + 1) # +1 include biais\n",
    "\n",
    "        for _ in range(self.n_iter):\n",
    "            # get prediction of current weights. (forward pass)\n",
    "            hx = np.dot(X_tmp, self.W)\n",
    "            # check the cost to know whether the model is learning or not.\n",
    "            cost_J = self.compute_cost(hx, y)\n",
    "            self.J_history.append(cost_J)\n",
    "            #compute gradient\n",
    "            grad = self.compute_gradient(X_tmp, hx, y)\n",
    "            #update weights\n",
    "            self.W = self.W - (self.learning_rate * grad)\n",
    "            \n",
    "    def predict(self, X):\n",
    "        \"\"\"Our hypothesis h(x) to be applied over test data\"\"\"\n",
    "        # add the ones vector.\n",
    "        x_0 = np.ones((X.shape[0], 1))\n",
    "        X_tmp = np.hstack((x_0, X))\n",
    "        return np.dot(X_tmp, self.W)\n",
    "    \n",
    "    def compute_cost(self, hx, y):\n",
    "        diff = hx - y\n",
    "        diff_squared = diff ** 2\n",
    "        somme = np.sum(diff_squared)\n",
    "        mse = somme / (2 * y.size)\n",
    "        return mse\n",
    "    \n",
    "    def compute_gradient(self, X, hx, y):\n",
    "        diff = hx - y\n",
    "        grad = np.dot(diff, X) / y.size\n",
    "        return grad\n",
    "        \n",
    "    def plot_learning_curve(self):\n",
    "        plt.plot(np.arange(self.n_iter), self.J_history)\n",
    "        plt.xlabel('Iteration', fontsize=18)\n",
    "        plt.ylabel('J(w)', fontsize=18)"
   ]
  },
  {
   "cell_type": "markdown",
   "metadata": {},
   "source": [
    "## Scikit-learn boston house pricing (Again)\n",
    "\n",
    "If we have time at the end we can do the Baseball players salary prediction too..."
   ]
  },
  {
   "cell_type": "code",
   "execution_count": 29,
   "metadata": {},
   "outputs": [],
   "source": [
    "from sklearn.datasets import load_boston\n",
    "from sklearn.preprocessing import StandardScaler\n",
    "from sklearn.model_selection import train_test_split\n",
    "\n",
    "X, y = load_boston(return_X_y=True)\n",
    "X_train, X_test, y_train, y_test = train_test_split(X, y, test_size=0.25)"
   ]
  },
  {
   "cell_type": "markdown",
   "metadata": {},
   "source": [
    "## Normalisation"
   ]
  },
  {
   "cell_type": "code",
   "execution_count": 30,
   "metadata": {},
   "outputs": [],
   "source": [
    "scaler = StandardScaler() # Normalize data\n",
    "scaler.fit(X_train)\n",
    "X_train_scaled = scaler.transform(X_train)\n",
    "X_test_scaled = scaler.transform(X_test)"
   ]
  },
  {
   "cell_type": "code",
   "execution_count": 32,
   "metadata": {},
   "outputs": [
    {
     "data": {
      "text/plain": [
       "array([[-0.40317551,  2.94111886, -0.90857042, ...,  0.34179631,\n",
       "         0.44790707, -1.11305185],\n",
       "       [ 6.8872731 , -0.47357476,  1.02048945, ...,  0.81063742,\n",
       "         0.32022509,  1.44619093],\n",
       "       [-0.39992467, -0.47357476, -1.04059733, ..., -0.8771906 ,\n",
       "         0.38765145, -0.80224665],\n",
       "       ...,\n",
       "       [-0.39698636,  0.05997112, -0.48021644, ..., -1.53356816,\n",
       "         0.37941045,  0.42837391],\n",
       "       [-0.40056367, -0.47357476, -1.27384487, ..., -0.31458126,\n",
       "         0.34312865,  0.06996792],\n",
       "       [-0.38594726,  0.46546599, -0.77507654, ...,  0.2949122 ,\n",
       "         0.22572116, -0.3500391 ]])"
      ]
     },
     "execution_count": 32,
     "metadata": {},
     "output_type": "execute_result"
    }
   ],
   "source": [
    "X_train_scaled"
   ]
  },
  {
   "cell_type": "markdown",
   "metadata": {},
   "source": [
    "## Fit Linear Regression"
   ]
  },
  {
   "cell_type": "code",
   "execution_count": 43,
   "metadata": {},
   "outputs": [
    {
     "data": {
      "image/png": "[encoded data removed]",
      "text/plain": [
       "<Figure size 432x288 with 1 Axes>"
      ]
     },
     "metadata": {
      "needs_background": "light"
     },
     "output_type": "display_data"
    }
   ],
   "source": [
    "lr = LinearRegression(n_iter=100, learning_rate=0.1)\n",
    "lr.fit(X_train_scaled, y_train)\n",
    "lr.plot_learning_curve()"
   ]
  },
  {
   "cell_type": "code",
   "execution_count": 40,
   "metadata": {},
   "outputs": [
    {
     "data": {
      "text/plain": [
       "[293.85939941988136,\n",
       " 181.06302561503168,\n",
       " 479.35954107426363,\n",
       " 1958.6184508920483,\n",
       " 8378.83778085045,\n",
       " 36042.839809709636,\n",
       " 155191.79135037377,\n",
       " 668351.8441623923,\n",
       " 2878464.623930302,\n",
       " 12397126.88093668]"
      ]
     },
     "execution_count": 40,
     "metadata": {},
     "output_type": "execute_result"
    }
   ],
   "source": [
    "lr.J_history[0:10]"
   ]
  },
  {
   "cell_type": "markdown",
   "metadata": {},
   "source": [
    "## Evaluate over test set"
   ]
  },
  {
   "cell_type": "code",
   "execution_count": 44,
   "metadata": {},
   "outputs": [
    {
     "name": "stdout",
     "output_type": "stream",
     "text": [
      "Score linear regression: 24.22672141656136\n"
     ]
    }
   ],
   "source": [
    "from sklearn.metrics import mean_squared_error\n",
    "hx_test = lr.predict(X_test_scaled)\n",
    "score = mean_squared_error(hx_test, y_test)\n",
    "print(f'Score linear regression: {score}')"
   ]
  },
  {
   "cell_type": "code",
   "execution_count": 46,
   "metadata": {},
   "outputs": [
    {
     "data": {
      "text/plain": [
       "LinearRegression()"
      ]
     },
     "execution_count": 46,
     "metadata": {},
     "output_type": "execute_result"
    }
   ],
   "source": [
    "from sklearn.linear_model import LinearRegression\n",
    "lr_sklearn = LinearRegression()\n",
    "lr_sklearn.fit(X_train_scaled, y_train)"
   ]
  },
  {
   "cell_type": "code",
   "execution_count": 47,
   "metadata": {},
   "outputs": [],
   "source": [
    "hx_sklearn = lr_sklearn.predict(X_test_scaled)\n",
    "score = mean_squared_error(hx_sklearn, y_test)"
   ]
  },
  {
   "cell_type": "code",
   "execution_count": 48,
   "metadata": {},
   "outputs": [
    {
     "data": {
      "text/plain": [
       "24.438085084627424"
      ]
     },
     "execution_count": 48,
     "metadata": {},
     "output_type": "execute_result"
    }
   ],
   "source": [
    "score"
   ]
  }
 ],
 "metadata": {
  "kernelspec": {
   "display_name": "Python 3",
   "language": "python",
   "name": "python3"
  },
  "language_info": {
   "codemirror_mode": {
    "name": "ipython",
    "version": 3
   },
   "file_extension": ".py",
   "mimetype": "text/x-python",
   "name": "python",
   "nbconvert_exporter": "python",
   "pygments_lexer": "ipython3",
   "version": "3.7.3"
  }
 },
 "nbformat": 4,
 "nbformat_minor": 4
}
